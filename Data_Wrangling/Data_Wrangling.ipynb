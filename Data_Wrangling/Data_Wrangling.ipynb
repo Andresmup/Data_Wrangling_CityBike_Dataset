{
 "cells": [
  {
   "cell_type": "markdown",
   "id": "f4772b10",
   "metadata": {},
   "source": [
    "## IMPORTACIÓN LIBRERIAS Y DATASET"
   ]
  },
  {
   "cell_type": "code",
   "execution_count": 1,
   "id": "f108ab66",
   "metadata": {},
   "outputs": [],
   "source": [
    "import pandas as pd\n",
    "import numpy as np\n",
    "import matplotlib.pyplot as plt\n",
    "import missingno as msno\n",
    "import datetime as dt\n",
    "from datetime import datetime\n"
   ]
  },
  {
   "cell_type": "code",
   "execution_count": 2,
   "id": "a669e82c",
   "metadata": {},
   "outputs": [
    {
     "data": {
      "text/html": [
       "<div>\n",
       "<style scoped>\n",
       "    .dataframe tbody tr th:only-of-type {\n",
       "        vertical-align: middle;\n",
       "    }\n",
       "\n",
       "    .dataframe tbody tr th {\n",
       "        vertical-align: top;\n",
       "    }\n",
       "\n",
       "    .dataframe thead th {\n",
       "        text-align: right;\n",
       "    }\n",
       "</style>\n",
       "<table border=\"1\" class=\"dataframe\">\n",
       "  <thead>\n",
       "    <tr style=\"text-align: right;\">\n",
       "      <th></th>\n",
       "      <th>tripduration</th>\n",
       "      <th>starttime</th>\n",
       "      <th>stoptime</th>\n",
       "      <th>start station id</th>\n",
       "      <th>start station name</th>\n",
       "      <th>start station latitude</th>\n",
       "      <th>start station longitude</th>\n",
       "      <th>end station id</th>\n",
       "      <th>end station name</th>\n",
       "      <th>end station latitude</th>\n",
       "      <th>end station longitude</th>\n",
       "      <th>bikeid</th>\n",
       "      <th>usertype</th>\n",
       "      <th>birth year</th>\n",
       "      <th>gender</th>\n",
       "    </tr>\n",
       "  </thead>\n",
       "  <tbody>\n",
       "    <tr>\n",
       "      <th>0</th>\n",
       "      <td>201</td>\n",
       "      <td>2019-01-01 03:09:09.7110</td>\n",
       "      <td>2019-01-01 03:12:30.8790</td>\n",
       "      <td>3183</td>\n",
       "      <td>Exchange Place</td>\n",
       "      <td>40.716247</td>\n",
       "      <td>-74.033459</td>\n",
       "      <td>3214</td>\n",
       "      <td>Essex Light Rail</td>\n",
       "      <td>40.712774</td>\n",
       "      <td>-74.036486</td>\n",
       "      <td>29612</td>\n",
       "      <td>Subscriber</td>\n",
       "      <td>1993</td>\n",
       "      <td>1</td>\n",
       "    </tr>\n",
       "    <tr>\n",
       "      <th>1</th>\n",
       "      <td>505</td>\n",
       "      <td>2019-01-01 05:18:00.1060</td>\n",
       "      <td>2019-01-01 05:26:25.9050</td>\n",
       "      <td>3183</td>\n",
       "      <td>Exchange Place</td>\n",
       "      <td>40.716247</td>\n",
       "      <td>-74.033459</td>\n",
       "      <td>3638</td>\n",
       "      <td>Washington St</td>\n",
       "      <td>40.724294</td>\n",
       "      <td>-74.035483</td>\n",
       "      <td>29213</td>\n",
       "      <td>Subscriber</td>\n",
       "      <td>1972</td>\n",
       "      <td>2</td>\n",
       "    </tr>\n",
       "    <tr>\n",
       "      <th>2</th>\n",
       "      <td>756</td>\n",
       "      <td>2019-01-01 10:36:33.3400</td>\n",
       "      <td>2019-01-01 10:49:10.2600</td>\n",
       "      <td>3183</td>\n",
       "      <td>Exchange Place</td>\n",
       "      <td>40.716247</td>\n",
       "      <td>-74.033459</td>\n",
       "      <td>3192</td>\n",
       "      <td>Liberty Light Rail</td>\n",
       "      <td>40.711242</td>\n",
       "      <td>-74.055701</td>\n",
       "      <td>26164</td>\n",
       "      <td>Subscriber</td>\n",
       "      <td>1985</td>\n",
       "      <td>1</td>\n",
       "    </tr>\n",
       "    <tr>\n",
       "      <th>3</th>\n",
       "      <td>1575</td>\n",
       "      <td>2019-01-01 12:43:38.6430</td>\n",
       "      <td>2019-01-01 13:09:54.5280</td>\n",
       "      <td>3183</td>\n",
       "      <td>Exchange Place</td>\n",
       "      <td>40.716247</td>\n",
       "      <td>-74.033459</td>\n",
       "      <td>3638</td>\n",
       "      <td>Washington St</td>\n",
       "      <td>40.724294</td>\n",
       "      <td>-74.035483</td>\n",
       "      <td>29672</td>\n",
       "      <td>Customer</td>\n",
       "      <td>1969</td>\n",
       "      <td>0</td>\n",
       "    </tr>\n",
       "    <tr>\n",
       "      <th>4</th>\n",
       "      <td>1566</td>\n",
       "      <td>2019-01-01 12:43:39.6010</td>\n",
       "      <td>2019-01-01 13:09:46.5100</td>\n",
       "      <td>3183</td>\n",
       "      <td>Exchange Place</td>\n",
       "      <td>40.716247</td>\n",
       "      <td>-74.033459</td>\n",
       "      <td>3638</td>\n",
       "      <td>Washington St</td>\n",
       "      <td>40.724294</td>\n",
       "      <td>-74.035483</td>\n",
       "      <td>29522</td>\n",
       "      <td>Customer</td>\n",
       "      <td>1969</td>\n",
       "      <td>0</td>\n",
       "    </tr>\n",
       "    <tr>\n",
       "      <th>...</th>\n",
       "      <td>...</td>\n",
       "      <td>...</td>\n",
       "      <td>...</td>\n",
       "      <td>...</td>\n",
       "      <td>...</td>\n",
       "      <td>...</td>\n",
       "      <td>...</td>\n",
       "      <td>...</td>\n",
       "      <td>...</td>\n",
       "      <td>...</td>\n",
       "      <td>...</td>\n",
       "      <td>...</td>\n",
       "      <td>...</td>\n",
       "      <td>...</td>\n",
       "      <td>...</td>\n",
       "    </tr>\n",
       "    <tr>\n",
       "      <th>404942</th>\n",
       "      <td>283</td>\n",
       "      <td>2019-12-31 23:12:18.5480</td>\n",
       "      <td>2019-12-31 23:17:01.8740</td>\n",
       "      <td>3195</td>\n",
       "      <td>Sip Ave</td>\n",
       "      <td>40.730897</td>\n",
       "      <td>-74.063913</td>\n",
       "      <td>3679</td>\n",
       "      <td>Bergen Ave</td>\n",
       "      <td>40.722104</td>\n",
       "      <td>-74.071455</td>\n",
       "      <td>29245</td>\n",
       "      <td>Customer</td>\n",
       "      <td>1990</td>\n",
       "      <td>1</td>\n",
       "    </tr>\n",
       "    <tr>\n",
       "      <th>404943</th>\n",
       "      <td>267</td>\n",
       "      <td>2019-12-31 23:19:03.5840</td>\n",
       "      <td>2019-12-31 23:23:30.6640</td>\n",
       "      <td>3186</td>\n",
       "      <td>Grove St PATH</td>\n",
       "      <td>40.719586</td>\n",
       "      <td>-74.043117</td>\n",
       "      <td>3205</td>\n",
       "      <td>JC Medical Center</td>\n",
       "      <td>40.716540</td>\n",
       "      <td>-74.049638</td>\n",
       "      <td>26153</td>\n",
       "      <td>Subscriber</td>\n",
       "      <td>1989</td>\n",
       "      <td>1</td>\n",
       "    </tr>\n",
       "    <tr>\n",
       "      <th>404944</th>\n",
       "      <td>379</td>\n",
       "      <td>2019-12-31 23:19:06.5830</td>\n",
       "      <td>2019-12-31 23:25:25.7970</td>\n",
       "      <td>3209</td>\n",
       "      <td>Brunswick St</td>\n",
       "      <td>40.724176</td>\n",
       "      <td>-74.050656</td>\n",
       "      <td>3185</td>\n",
       "      <td>City Hall</td>\n",
       "      <td>40.717732</td>\n",
       "      <td>-74.043845</td>\n",
       "      <td>26276</td>\n",
       "      <td>Subscriber</td>\n",
       "      <td>1984</td>\n",
       "      <td>1</td>\n",
       "    </tr>\n",
       "    <tr>\n",
       "      <th>404945</th>\n",
       "      <td>188</td>\n",
       "      <td>2019-12-31 23:24:00.2630</td>\n",
       "      <td>2019-12-31 23:27:09.0400</td>\n",
       "      <td>3639</td>\n",
       "      <td>Harborside</td>\n",
       "      <td>40.719252</td>\n",
       "      <td>-74.034234</td>\n",
       "      <td>3186</td>\n",
       "      <td>Grove St PATH</td>\n",
       "      <td>40.719586</td>\n",
       "      <td>-74.043117</td>\n",
       "      <td>29461</td>\n",
       "      <td>Subscriber</td>\n",
       "      <td>1987</td>\n",
       "      <td>1</td>\n",
       "    </tr>\n",
       "    <tr>\n",
       "      <th>404946</th>\n",
       "      <td>326</td>\n",
       "      <td>2019-12-31 23:45:20.9780</td>\n",
       "      <td>2019-12-31 23:50:47.7490</td>\n",
       "      <td>3195</td>\n",
       "      <td>Sip Ave</td>\n",
       "      <td>40.730897</td>\n",
       "      <td>-74.063913</td>\n",
       "      <td>3280</td>\n",
       "      <td>Astor Place</td>\n",
       "      <td>40.719282</td>\n",
       "      <td>-74.071262</td>\n",
       "      <td>29123</td>\n",
       "      <td>Subscriber</td>\n",
       "      <td>1988</td>\n",
       "      <td>1</td>\n",
       "    </tr>\n",
       "  </tbody>\n",
       "</table>\n",
       "<p>404947 rows × 15 columns</p>\n",
       "</div>"
      ],
      "text/plain": [
       "        tripduration                 starttime                  stoptime  \\\n",
       "0                201  2019-01-01 03:09:09.7110  2019-01-01 03:12:30.8790   \n",
       "1                505  2019-01-01 05:18:00.1060  2019-01-01 05:26:25.9050   \n",
       "2                756  2019-01-01 10:36:33.3400  2019-01-01 10:49:10.2600   \n",
       "3               1575  2019-01-01 12:43:38.6430  2019-01-01 13:09:54.5280   \n",
       "4               1566  2019-01-01 12:43:39.6010  2019-01-01 13:09:46.5100   \n",
       "...              ...                       ...                       ...   \n",
       "404942           283  2019-12-31 23:12:18.5480  2019-12-31 23:17:01.8740   \n",
       "404943           267  2019-12-31 23:19:03.5840  2019-12-31 23:23:30.6640   \n",
       "404944           379  2019-12-31 23:19:06.5830  2019-12-31 23:25:25.7970   \n",
       "404945           188  2019-12-31 23:24:00.2630  2019-12-31 23:27:09.0400   \n",
       "404946           326  2019-12-31 23:45:20.9780  2019-12-31 23:50:47.7490   \n",
       "\n",
       "        start station id start station name  start station latitude  \\\n",
       "0                   3183     Exchange Place               40.716247   \n",
       "1                   3183     Exchange Place               40.716247   \n",
       "2                   3183     Exchange Place               40.716247   \n",
       "3                   3183     Exchange Place               40.716247   \n",
       "4                   3183     Exchange Place               40.716247   \n",
       "...                  ...                ...                     ...   \n",
       "404942              3195            Sip Ave               40.730897   \n",
       "404943              3186      Grove St PATH               40.719586   \n",
       "404944              3209       Brunswick St               40.724176   \n",
       "404945              3639         Harborside               40.719252   \n",
       "404946              3195            Sip Ave               40.730897   \n",
       "\n",
       "        start station longitude  end station id    end station name  \\\n",
       "0                    -74.033459            3214    Essex Light Rail   \n",
       "1                    -74.033459            3638       Washington St   \n",
       "2                    -74.033459            3192  Liberty Light Rail   \n",
       "3                    -74.033459            3638       Washington St   \n",
       "4                    -74.033459            3638       Washington St   \n",
       "...                         ...             ...                 ...   \n",
       "404942               -74.063913            3679          Bergen Ave   \n",
       "404943               -74.043117            3205   JC Medical Center   \n",
       "404944               -74.050656            3185           City Hall   \n",
       "404945               -74.034234            3186       Grove St PATH   \n",
       "404946               -74.063913            3280         Astor Place   \n",
       "\n",
       "        end station latitude  end station longitude  bikeid    usertype  \\\n",
       "0                  40.712774             -74.036486   29612  Subscriber   \n",
       "1                  40.724294             -74.035483   29213  Subscriber   \n",
       "2                  40.711242             -74.055701   26164  Subscriber   \n",
       "3                  40.724294             -74.035483   29672    Customer   \n",
       "4                  40.724294             -74.035483   29522    Customer   \n",
       "...                      ...                    ...     ...         ...   \n",
       "404942             40.722104             -74.071455   29245    Customer   \n",
       "404943             40.716540             -74.049638   26153  Subscriber   \n",
       "404944             40.717732             -74.043845   26276  Subscriber   \n",
       "404945             40.719586             -74.043117   29461  Subscriber   \n",
       "404946             40.719282             -74.071262   29123  Subscriber   \n",
       "\n",
       "        birth year  gender  \n",
       "0             1993       1  \n",
       "1             1972       2  \n",
       "2             1985       1  \n",
       "3             1969       0  \n",
       "4             1969       0  \n",
       "...            ...     ...  \n",
       "404942        1990       1  \n",
       "404943        1989       1  \n",
       "404944        1984       1  \n",
       "404945        1987       1  \n",
       "404946        1988       1  \n",
       "\n",
       "[404947 rows x 15 columns]"
      ]
     },
     "execution_count": 2,
     "metadata": {},
     "output_type": "execute_result"
    }
   ],
   "source": [
    "url ='https://raw.githubusercontent.com/Andresmup/Proyecto_Data_Science_Bicicletas/master/Data_Wrangling/Dataset_2019.csv'\n",
    "df_csv = pd.read_csv(url)\n",
    "df_csv\n"
   ]
  },
  {
   "cell_type": "markdown",
   "id": "f494afc8",
   "metadata": {},
   "source": [
    "## ANALISIS TIPO DE DATO Y NULOS"
   ]
  },
  {
   "cell_type": "code",
   "execution_count": 3,
   "id": "5f5e68e6",
   "metadata": {},
   "outputs": [
    {
     "name": "stdout",
     "output_type": "stream",
     "text": [
      "<class 'pandas.core.frame.DataFrame'>\n",
      "RangeIndex: 404947 entries, 0 to 404946\n",
      "Data columns (total 15 columns):\n",
      " #   Column                   Non-Null Count   Dtype  \n",
      "---  ------                   --------------   -----  \n",
      " 0   tripduration             404947 non-null  int64  \n",
      " 1   starttime                404947 non-null  object \n",
      " 2   stoptime                 404947 non-null  object \n",
      " 3   start station id         404947 non-null  int64  \n",
      " 4   start station name       404947 non-null  object \n",
      " 5   start station latitude   404947 non-null  float64\n",
      " 6   start station longitude  404947 non-null  float64\n",
      " 7   end station id           404947 non-null  int64  \n",
      " 8   end station name         404947 non-null  object \n",
      " 9   end station latitude     404947 non-null  float64\n",
      " 10  end station longitude    404947 non-null  float64\n",
      " 11  bikeid                   404947 non-null  int64  \n",
      " 12  usertype                 404947 non-null  object \n",
      " 13  birth year               404947 non-null  int64  \n",
      " 14  gender                   404947 non-null  int64  \n",
      "dtypes: float64(4), int64(6), object(5)\n",
      "memory usage: 46.3+ MB\n"
     ]
    }
   ],
   "source": [
    "df_csv.info()"
   ]
  },
  {
   "cell_type": "code",
   "execution_count": 4,
   "id": "a0ceb686",
   "metadata": {},
   "outputs": [
    {
     "name": "stdout",
     "output_type": "stream",
     "text": [
      "(404947, 15)\n",
      "(404947, 15)\n"
     ]
    }
   ],
   "source": [
    "print(df_csv.shape)\n",
    "df_csv_2= df_csv.drop_duplicates()\n",
    "print(df_csv_2.shape)"
   ]
  },
  {
   "cell_type": "markdown",
   "id": "79bfe3f8",
   "metadata": {},
   "source": [
    "Observamos que no hay duplicados"
   ]
  },
  {
   "cell_type": "code",
   "execution_count": 5,
   "id": "8a78183b",
   "metadata": {},
   "outputs": [
    {
     "name": "stdout",
     "output_type": "stream",
     "text": [
      "(404947, 15)\n",
      "(404947, 15)\n"
     ]
    }
   ],
   "source": [
    "print(df_csv_2.shape)\n",
    "df_csv_2= df_csv_2.dropna()\n",
    "print(df_csv_2.shape)"
   ]
  },
  {
   "cell_type": "code",
   "execution_count": 6,
   "id": "5a9cc9fe",
   "metadata": {},
   "outputs": [
    {
     "data": {
      "text/plain": [
       "<AxesSubplot:>"
      ]
     },
     "execution_count": 6,
     "metadata": {},
     "output_type": "execute_result"
    },
    {
     "data": {
      "image/png": "[encoded data removed]",
      "text/plain": [
       "<Figure size 1800x720 with 2 Axes>"
      ]
     },
     "metadata": {
      "needs_background": "light"
     },
     "output_type": "display_data"
    }
   ],
   "source": [
    "msno.matrix(df_csv)"
   ]
  },
  {
   "cell_type": "markdown",
   "id": "ba042773",
   "metadata": {},
   "source": [
    "Observamos que no hay nulos"
   ]
  },
  {
   "cell_type": "markdown",
   "id": "2bc1ebbc",
   "metadata": {},
   "source": [
    "## DATA EXPLORATORY"
   ]
  },
  {
   "cell_type": "code",
   "execution_count": 7,
   "id": "11594527",
   "metadata": {},
   "outputs": [
    {
     "data": {
      "text/html": [
       "<div>\n",
       "<style scoped>\n",
       "    .dataframe tbody tr th:only-of-type {\n",
       "        vertical-align: middle;\n",
       "    }\n",
       "\n",
       "    .dataframe tbody tr th {\n",
       "        vertical-align: top;\n",
       "    }\n",
       "\n",
       "    .dataframe thead th {\n",
       "        text-align: right;\n",
       "    }\n",
       "</style>\n",
       "<table border=\"1\" class=\"dataframe\">\n",
       "  <thead>\n",
       "    <tr style=\"text-align: right;\">\n",
       "      <th></th>\n",
       "      <th>tripduration</th>\n",
       "      <th>start station id</th>\n",
       "      <th>start station latitude</th>\n",
       "      <th>start station longitude</th>\n",
       "      <th>end station id</th>\n",
       "      <th>end station latitude</th>\n",
       "      <th>end station longitude</th>\n",
       "      <th>bikeid</th>\n",
       "      <th>birth year</th>\n",
       "      <th>gender</th>\n",
       "    </tr>\n",
       "  </thead>\n",
       "  <tbody>\n",
       "    <tr>\n",
       "      <th>count</th>\n",
       "      <td>4.049470e+05</td>\n",
       "      <td>404947.000000</td>\n",
       "      <td>404947.000000</td>\n",
       "      <td>404947.000000</td>\n",
       "      <td>404947.000000</td>\n",
       "      <td>404947.000000</td>\n",
       "      <td>404947.000000</td>\n",
       "      <td>404947.000000</td>\n",
       "      <td>404947.000000</td>\n",
       "      <td>404947.000000</td>\n",
       "    </tr>\n",
       "    <tr>\n",
       "      <th>mean</th>\n",
       "      <td>7.258427e+02</td>\n",
       "      <td>3294.022391</td>\n",
       "      <td>40.722722</td>\n",
       "      <td>-74.046333</td>\n",
       "      <td>3292.219142</td>\n",
       "      <td>40.722328</td>\n",
       "      <td>-74.045792</td>\n",
       "      <td>28465.511998</td>\n",
       "      <td>1981.417524</td>\n",
       "      <td>1.162335</td>\n",
       "    </tr>\n",
       "    <tr>\n",
       "      <th>std</th>\n",
       "      <td>9.785237e+03</td>\n",
       "      <td>171.021930</td>\n",
       "      <td>0.007037</td>\n",
       "      <td>0.010871</td>\n",
       "      <td>180.886426</td>\n",
       "      <td>0.006885</td>\n",
       "      <td>0.010829</td>\n",
       "      <td>1654.373618</td>\n",
       "      <td>10.257440</td>\n",
       "      <td>0.516120</td>\n",
       "    </tr>\n",
       "    <tr>\n",
       "      <th>min</th>\n",
       "      <td>6.100000e+01</td>\n",
       "      <td>3183.000000</td>\n",
       "      <td>40.709651</td>\n",
       "      <td>-74.083639</td>\n",
       "      <td>116.000000</td>\n",
       "      <td>40.695065</td>\n",
       "      <td>-74.083639</td>\n",
       "      <td>14792.000000</td>\n",
       "      <td>1887.000000</td>\n",
       "      <td>0.000000</td>\n",
       "    </tr>\n",
       "    <tr>\n",
       "      <th>25%</th>\n",
       "      <td>2.330000e+02</td>\n",
       "      <td>3195.000000</td>\n",
       "      <td>40.718355</td>\n",
       "      <td>-74.050444</td>\n",
       "      <td>3192.000000</td>\n",
       "      <td>40.718355</td>\n",
       "      <td>-74.050389</td>\n",
       "      <td>26286.000000</td>\n",
       "      <td>1975.000000</td>\n",
       "      <td>1.000000</td>\n",
       "    </tr>\n",
       "    <tr>\n",
       "      <th>50%</th>\n",
       "      <td>3.450000e+02</td>\n",
       "      <td>3210.000000</td>\n",
       "      <td>40.721525</td>\n",
       "      <td>-74.043845</td>\n",
       "      <td>3207.000000</td>\n",
       "      <td>40.721124</td>\n",
       "      <td>-74.043117</td>\n",
       "      <td>29284.000000</td>\n",
       "      <td>1984.000000</td>\n",
       "      <td>1.000000</td>\n",
       "    </tr>\n",
       "    <tr>\n",
       "      <th>75%</th>\n",
       "      <td>5.800000e+02</td>\n",
       "      <td>3276.000000</td>\n",
       "      <td>40.727224</td>\n",
       "      <td>-74.038051</td>\n",
       "      <td>3276.000000</td>\n",
       "      <td>40.727224</td>\n",
       "      <td>-74.038051</td>\n",
       "      <td>29536.000000</td>\n",
       "      <td>1989.000000</td>\n",
       "      <td>1.000000</td>\n",
       "    </tr>\n",
       "    <tr>\n",
       "      <th>max</th>\n",
       "      <td>2.566420e+06</td>\n",
       "      <td>3792.000000</td>\n",
       "      <td>40.748716</td>\n",
       "      <td>-74.032108</td>\n",
       "      <td>3792.000000</td>\n",
       "      <td>40.814326</td>\n",
       "      <td>-73.932077</td>\n",
       "      <td>41913.000000</td>\n",
       "      <td>2003.000000</td>\n",
       "      <td>2.000000</td>\n",
       "    </tr>\n",
       "  </tbody>\n",
       "</table>\n",
       "</div>"
      ],
      "text/plain": [
       "       tripduration  start station id  start station latitude  \\\n",
       "count  4.049470e+05     404947.000000           404947.000000   \n",
       "mean   7.258427e+02       3294.022391               40.722722   \n",
       "std    9.785237e+03        171.021930                0.007037   \n",
       "min    6.100000e+01       3183.000000               40.709651   \n",
       "25%    2.330000e+02       3195.000000               40.718355   \n",
       "50%    3.450000e+02       3210.000000               40.721525   \n",
       "75%    5.800000e+02       3276.000000               40.727224   \n",
       "max    2.566420e+06       3792.000000               40.748716   \n",
       "\n",
       "       start station longitude  end station id  end station latitude  \\\n",
       "count            404947.000000   404947.000000         404947.000000   \n",
       "mean                -74.046333     3292.219142             40.722328   \n",
       "std                   0.010871      180.886426              0.006885   \n",
       "min                 -74.083639      116.000000             40.695065   \n",
       "25%                 -74.050444     3192.000000             40.718355   \n",
       "50%                 -74.043845     3207.000000             40.721124   \n",
       "75%                 -74.038051     3276.000000             40.727224   \n",
       "max                 -74.032108     3792.000000             40.814326   \n",
       "\n",
       "       end station longitude         bikeid     birth year         gender  \n",
       "count          404947.000000  404947.000000  404947.000000  404947.000000  \n",
       "mean              -74.045792   28465.511998    1981.417524       1.162335  \n",
       "std                 0.010829    1654.373618      10.257440       0.516120  \n",
       "min               -74.083639   14792.000000    1887.000000       0.000000  \n",
       "25%               -74.050389   26286.000000    1975.000000       1.000000  \n",
       "50%               -74.043117   29284.000000    1984.000000       1.000000  \n",
       "75%               -74.038051   29536.000000    1989.000000       1.000000  \n",
       "max               -73.932077   41913.000000    2003.000000       2.000000  "
      ]
     },
     "execution_count": 7,
     "metadata": {},
     "output_type": "execute_result"
    }
   ],
   "source": [
    "df_csv.describe()"
   ]
  },
  {
   "cell_type": "markdown",
   "id": "294678d4",
   "metadata": {},
   "source": [
    "## CANTIDAD DE VIAJES GENERO"
   ]
  },
  {
   "cell_type": "code",
   "execution_count": 8,
   "id": "567283cf",
   "metadata": {},
   "outputs": [
    {
     "data": {
      "text/plain": [
       "1    286406\n",
       "2     92139\n",
       "0     26402\n",
       "Name: gender, dtype: int64"
      ]
     },
     "execution_count": 8,
     "metadata": {},
     "output_type": "execute_result"
    }
   ],
   "source": [
    "df_csv['gender'].value_counts()"
   ]
  },
  {
   "cell_type": "markdown",
   "id": "75f2479d",
   "metadata": {},
   "source": [
    "Sabiendo que 1 es masculino, 2 femenino, quedando el valor 0 como un genero no especificado se implementaran mas adelante medidas de ser necesario si es que se considera dicho valor como inexacto para nuestro analisis"
   ]
  },
  {
   "cell_type": "markdown",
   "id": "c16fb7b9",
   "metadata": {},
   "source": [
    "## CANTIDAD DE VIAJES POR ESTACIONES "
   ]
  },
  {
   "cell_type": "code",
   "execution_count": 9,
   "id": "7f7c1b53",
   "metadata": {},
   "outputs": [
    {
     "data": {
      "text/plain": [
       "Grove St PATH                 46662\n",
       "Hamilton Park                 24106\n",
       "Sip Ave                       19085\n",
       "Harborside                    17877\n",
       "Newport PATH                  17370\n",
       "Marin Light Rail              14196\n",
       "Newport Pkwy                  11173\n",
       "Newark Ave                    10604\n",
       "City Hall                     10186\n",
       "Morris Canal                  10063\n",
       "Warren St                     10020\n",
       "Washington St                  9824\n",
       "Brunswick & 6th                9678\n",
       "Paulus Hook                    9108\n",
       "Jersey & 3rd                   9086\n",
       "Columbus Dr at Exchange Pl     9027\n",
       "Jersey & 6th St                9006\n",
       "Van Vorst Park                 8684\n",
       "Columbus Drive                 8585\n",
       "Liberty Light Rail             8508\n",
       "Brunswick St                   8506\n",
       "Monmouth and 6th               8175\n",
       "Journal Square                 7684\n",
       "Manila & 1st                   7377\n",
       "McGinley Square                7194\n",
       "JC Medical Center              6795\n",
       "Dixon Mills                    6667\n",
       "Essex Light Rail               6244\n",
       "Grand St                       6242\n",
       "Exchange Place                 5304\n",
       "Pershing Field                 4809\n",
       "Oakland Ave                    4739\n",
       "Montgomery St                  4364\n",
       "Baldwin at Montgomery          4026\n",
       "Astor Place                    3792\n",
       "York St                        3555\n",
       "Fairmount Ave                  3443\n",
       "Bergen Ave                     3242\n",
       "Lincoln Park                   3116\n",
       "Lafayette Park                 2989\n",
       "Hilltop                        2778\n",
       "Heights Elevator               2673\n",
       "5 Corners Library              2580\n",
       "Christ Hospital                2432\n",
       "Leonard Gordon Park            2270\n",
       "Glenwood Ave                   2238\n",
       "Riverview Park                 2171\n",
       "Communipaw & Berry Lane        1875\n",
       "Hoboken Ave at Monmouth St     1563\n",
       "Dey St                         1199\n",
       "Union St                       1012\n",
       "Jackson Square                 1002\n",
       "JCBS Depot                       43\n",
       "Name: start station name, dtype: int64"
      ]
     },
     "execution_count": 9,
     "metadata": {},
     "output_type": "execute_result"
    }
   ],
   "source": [
    "df_csv['start station name'].value_counts()"
   ]
  },
  {
   "cell_type": "code",
   "execution_count": 10,
   "id": "ad10cb11",
   "metadata": {},
   "outputs": [
    {
     "data": {
      "text/plain": [
       "Grove St PATH              58697\n",
       "Hamilton Park              22054\n",
       "Sip Ave                    18226\n",
       "Harborside                 17916\n",
       "Newport PATH               17840\n",
       "                           ...  \n",
       "W 27 St & 10 Ave               1\n",
       "Broadway & E 14 St             1\n",
       "E 53 St & Madison Ave          1\n",
       "Grand St & Elizabeth St        1\n",
       "W 41 St & 8 Ave                1\n",
       "Name: end station name, Length: 120, dtype: int64"
      ]
     },
     "execution_count": 10,
     "metadata": {},
     "output_type": "execute_result"
    }
   ],
   "source": [
    "df_csv['end station name'].value_counts()"
   ]
  },
  {
   "cell_type": "markdown",
   "id": "99f60b18",
   "metadata": {},
   "source": [
    "## CANTIDAD DE VIAJES POR TIPO DE USUARIO"
   ]
  },
  {
   "cell_type": "code",
   "execution_count": 11,
   "id": "7492a912",
   "metadata": {},
   "outputs": [
    {
     "data": {
      "text/plain": [
       "Subscriber    361921\n",
       "Customer       43026\n",
       "Name: usertype, dtype: int64"
      ]
     },
     "execution_count": 11,
     "metadata": {},
     "output_type": "execute_result"
    }
   ],
   "source": [
    "df_csv['usertype'].value_counts()"
   ]
  },
  {
   "cell_type": "markdown",
   "id": "02c367d5",
   "metadata": {},
   "source": [
    "## BUSQUEDA OUTLIERS POR AÑO NACIMIENTO"
   ]
  },
  {
   "cell_type": "code",
   "execution_count": 12,
   "id": "e679729f",
   "metadata": {},
   "outputs": [
    {
     "data": {
      "text/plain": [
       "1887      2\n",
       "1888    131\n",
       "1889      4\n",
       "1900     37\n",
       "1901      1\n",
       "1904     19\n",
       "1905      1\n",
       "1918      2\n",
       "1940     15\n",
       "1941     51\n",
       "1944     76\n",
       "1945      1\n",
       "1946     19\n",
       "1947     96\n",
       "1948      5\n",
       "Name: birth year, dtype: int64"
      ]
     },
     "execution_count": 12,
     "metadata": {},
     "output_type": "execute_result"
    }
   ],
   "source": [
    "df_csv['birth year'].value_counts().sort_index(ascending=True).head(15)"
   ]
  },
  {
   "cell_type": "markdown",
   "id": "55caa38f",
   "metadata": {},
   "source": [
    "Encontramos que claramente hay un error en el dataset puesto que fueron bicicletas rentadas en 2019 es imposible que alguien que alla nacido desde 1887 hasta 1918 alla podido rentar una lo cual indica que hubo algun error en la carga de los datos por lo que se tendra que decidir si se eliminaran dichas filas o se les dara un tratamiento posteriormente."
   ]
  },
  {
   "cell_type": "markdown",
   "id": "7f3a40a0",
   "metadata": {},
   "source": [
    "## BUSQUEDA OUTLIERS POR DURACION DEL VIAJE [seg]"
   ]
  },
  {
   "cell_type": "code",
   "execution_count": 13,
   "id": "532ef55d",
   "metadata": {},
   "outputs": [
    {
     "data": {
      "text/plain": [
       "61     66\n",
       "62     96\n",
       "63     90\n",
       "64    101\n",
       "65     90\n",
       "66    104\n",
       "67    104\n",
       "68     84\n",
       "69    109\n",
       "70    125\n",
       "71    129\n",
       "72    142\n",
       "73    139\n",
       "74    131\n",
       "75    130\n",
       "Name: tripduration, dtype: int64"
      ]
     },
     "execution_count": 13,
     "metadata": {},
     "output_type": "execute_result"
    }
   ],
   "source": [
    "df_csv['tripduration'].value_counts().sort_index(ascending=True).head(15)"
   ]
  },
  {
   "cell_type": "code",
   "execution_count": 14,
   "id": "2f27ce46",
   "metadata": {},
   "outputs": [
    {
     "data": {
      "text/plain": [
       "2566420    1\n",
       "2032058    1\n",
       "1729020    1\n",
       "1431964    1\n",
       "1423059    1\n",
       "1200198    1\n",
       "1195576    1\n",
       "1187550    1\n",
       "1083543    1\n",
       "1047271    1\n",
       "1023463    1\n",
       "961200     1\n",
       "914677     1\n",
       "872985     1\n",
       "854392     1\n",
       "Name: tripduration, dtype: int64"
      ]
     },
     "execution_count": 14,
     "metadata": {},
     "output_type": "execute_result"
    }
   ],
   "source": [
    "df_csv['tripduration'].value_counts().sort_index(ascending=False).head(15)"
   ]
  },
  {
   "cell_type": "markdown",
   "id": "8c51e94b",
   "metadata": {},
   "source": [
    "No encontramos outliers ya que la minima cantidad de tiempo entre retiro y entrega de bicicleta es de 60 segundos lo cual puede ser producto de una devolución ya que el usuario ser arrepintio y la maxima equivale a 30 dias lo cual indica un alquiler por un mes entero."
   ]
  },
  {
   "cell_type": "markdown",
   "id": "5d46a122",
   "metadata": {},
   "source": [
    "## VIAJES POR MES"
   ]
  },
  {
   "cell_type": "code",
   "execution_count": 15,
   "id": "069297be",
   "metadata": {},
   "outputs": [
    {
     "data": {
      "text/plain": [
       "September    49244\n",
       "August       48711\n",
       "July         43746\n",
       "October      42253\n",
       "June         39430\n",
       "May          36135\n",
       "April        33056\n",
       "November     30797\n",
       "March        23606\n",
       "December     19728\n",
       "January      19676\n",
       "February     18565\n",
       "Name: Mes, dtype: int64"
      ]
     },
     "execution_count": 15,
     "metadata": {},
     "output_type": "execute_result"
    }
   ],
   "source": [
    "df_month = df_csv\n",
    "\n",
    "df_month[\"starttime\"] = pd.to_datetime(df_month[\"starttime\"])\n",
    "df_mes = df_month\n",
    "df_mes[\"Mes\"] = df_month[\"starttime\"].apply(lambda x: x.strftime('%B'))\n",
    "df_mes['Mes'].value_counts()\n"
   ]
  },
  {
   "cell_type": "markdown",
   "id": "c8d2db38",
   "metadata": {},
   "source": [
    "## VIAJES POR DÍA"
   ]
  },
  {
   "cell_type": "code",
   "execution_count": 16,
   "id": "3bdcfb10",
   "metadata": {},
   "outputs": [
    {
     "data": {
      "text/plain": [
       "Tuesday      64857\n",
       "Wednesday    64316\n",
       "Friday       63603\n",
       "Thursday     60696\n",
       "Monday       59493\n",
       "Saturday     49795\n",
       "Sunday       42187\n",
       "Name: Dia, dtype: int64"
      ]
     },
     "execution_count": 16,
     "metadata": {},
     "output_type": "execute_result"
    }
   ],
   "source": [
    "df_day = df_csv\n",
    "\n",
    "df_day[\"starttime\"] = pd.to_datetime(df_day[\"starttime\"])\n",
    "df_dia = df_day\n",
    "df_dia[\"Dia\"] = df_day[\"starttime\"].apply(lambda x: x.strftime('%A'))\n",
    "df_dia['Dia'].value_counts()"
   ]
  },
  {
   "cell_type": "code",
   "execution_count": null,
   "id": "13f2ae8a",
   "metadata": {},
   "outputs": [],
   "source": []
  }
 ],
 "metadata": {
  "kernelspec": {
   "display_name": "Python 3 (ipykernel)",
   "language": "python",
   "name": "python3"
  },
  "language_info": {
   "codemirror_mode": {
    "name": "ipython",
    "version": 3
   },
   "file_extension": ".py",
   "mimetype": "text/x-python",
   "name": "python",
   "nbconvert_exporter": "python",
   "pygments_lexer": "ipython3",
   "version": "3.9.12"
  }
 },
 "nbformat": 4,
 "nbformat_minor": 5
}
